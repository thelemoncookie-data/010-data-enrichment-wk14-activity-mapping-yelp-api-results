{
 "cells": [
  {
   "cell_type": "markdown",
   "metadata": {
    "id": "8guYh-VR7nlX"
   },
   "source": [
    "# Part 1 - Extracting and Saving Data from Yelp API"
   ]
  },
  {
   "cell_type": "markdown",
   "metadata": {},
   "source": [
    "## Obective"
   ]
  },
  {
   "cell_type": "markdown",
   "metadata": {
    "id": "8guYh-VR7nlX"
   },
   "source": [
    "- For this CodeAlong, we will be working with the Yelp API. \n",
    "- You will use the the Yelp API to search your home town for a cuisine type of your choice.\n",
    "- Next class, we will then use Plotly Express to create a map with the Mapbox API to visualize the results.\n",
    "    \n",
    "    "
   ]
  },
  {
   "cell_type": "markdown",
   "metadata": {
    "id": "8guYh-VR7nlX"
   },
   "source": [
    "## Tools You Will Use\n",
    "- Part 1:\n",
    "    - Yelp API:\n",
    "        - Getting Started: \n",
    "            - https://www.yelp.com/developers/documentation/v3/get_started\n",
    "\n",
    "    - `YelpAPI` python package\n",
    "        -  \"YelpAPI\": https://github.com/gfairchild/yelpapi\n",
    "- Part 2:\n",
    "\n",
    "    - Plotly Express: https://plotly.com/python/getting-started/\n",
    "        - With Mapbox API: https://www.mapbox.com/\n",
    "        - `px.scatter_mapbox` [Documentation](https://plotly.com/python/scattermapbox/): \n",
    "\n",
    "\n"
   ]
  },
  {
   "cell_type": "markdown",
   "metadata": {},
   "source": [
    "### Applying Code From\n",
    "- Efficient API Calls Lesson Link: https://login.codingdojo.com/m/376/12529/88078"
   ]
  },
  {
   "cell_type": "code",
   "execution_count": 1,
   "metadata": {},
   "outputs": [],
   "source": [
    "# Standard Imports\n",
    "import numpy as np\n",
    "import pandas as pd\n",
    "import matplotlib.pyplot as plt\n",
    "import seaborn as sns\n",
    "\n",
    "# Additional Imports\n",
    "import os, json, math, time\n",
    "from yelpapi import YelpAPI\n",
    "from tqdm.notebook import tqdm_notebook"
   ]
  },
  {
   "cell_type": "markdown",
   "metadata": {
    "id": "1l3Z-79nBSX9"
   },
   "source": [
    "## 1. Registering for Required APIs"
   ]
  },
  {
   "cell_type": "markdown",
   "metadata": {
    "id": "1l3Z-79nBSX9"
   },
   "source": [
    "\n",
    "- Yelp: https://www.yelp.com/developers/documentation/v3/get_started\n"
   ]
  },
  {
   "cell_type": "markdown",
   "metadata": {},
   "source": [
    "> Check the official API documentation to know what arguments we can search for: https://www.yelp.com/developers/documentation/v3/business_search"
   ]
  },
  {
   "cell_type": "markdown",
   "metadata": {},
   "source": [
    "### Load Credentials and Create Yelp API Object"
   ]
  },
  {
   "cell_type": "code",
   "execution_count": 2,
   "metadata": {
    "ExecuteTime": {
     "end_time": "2022-03-25T18:20:46.629934Z",
     "start_time": "2022-03-25T18:20:45.915864Z"
    },
    "colab": {
     "base_uri": "https://localhost:8080/"
    },
    "id": "xJYqVvNkE36a",
    "outputId": "67798160-dea2-41fc-9040-2b3833efa560"
   },
   "outputs": [
    {
     "data": {
      "text/plain": [
       "dict_keys(['client-id', 'api-key'])"
      ]
     },
     "execution_count": 2,
     "metadata": {},
     "output_type": "execute_result"
    }
   ],
   "source": [
    "# Load API Credentials\n",
    "with open('/Users/darlenephan/.secret/yelp_api.json', 'r') as f:\n",
    "    login = json.load(f)\n",
    "login.keys()"
   ]
  },
  {
   "cell_type": "code",
   "execution_count": 3,
   "metadata": {},
   "outputs": [
    {
     "data": {
      "text/plain": [
       "<yelpapi.yelpapi.YelpAPI at 0x7f8b00d073a0>"
      ]
     },
     "execution_count": 3,
     "metadata": {},
     "output_type": "execute_result"
    }
   ],
   "source": [
    "# Instantiate YelpAPI Variable\n",
    "yelp = YelpAPI(login['api-key'], timeout_s=5.0)\n",
    "yelp"
   ]
  },
  {
   "cell_type": "markdown",
   "metadata": {},
   "source": [
    "### Define Search Terms and File Paths"
   ]
  },
  {
   "cell_type": "code",
   "execution_count": 4,
   "metadata": {},
   "outputs": [],
   "source": [
    "# set our API call parameters and filename before the first call\n",
    "location = 'Richmond, Australia'\n",
    "term = 'cafe'"
   ]
  },
  {
   "cell_type": "code",
   "execution_count": 5,
   "metadata": {},
   "outputs": [],
   "source": [
    "## Specify fodler for saving data\n",
    "FOLDER = 'Data/'\n",
    "\n",
    "#checking if folder exists\n",
    "os.makedirs(FOLDER, exist_ok=True)\n",
    "\n",
    "# Specifying JSON_FILE filename (can include a folder)\n",
    "#splitting location on comma\n",
    "JSON_FILE = FOLDER+f\"{location.split(',')[0]} - {term}.json\" #this returns Melbourne cafe using f string"
   ]
  },
  {
   "cell_type": "code",
   "execution_count": 6,
   "metadata": {},
   "outputs": [
    {
     "data": {
      "text/plain": [
       "'Data/Richmond - cafe.json'"
      ]
     },
     "execution_count": 6,
     "metadata": {},
     "output_type": "execute_result"
    }
   ],
   "source": [
    "JSON_FILE"
   ]
  },
  {
   "cell_type": "code",
   "execution_count": 7,
   "metadata": {},
   "outputs": [],
   "source": [
    "## Check if JSON_FILE exists\n",
    "\n",
    "## If it does not exist: \n",
    "    \n",
    "    ## CREATE ANY NEEDED FOLDERS\n",
    "    # Get the Folder Name only\n",
    "\n",
    "    \n",
    "    ## If JSON_FILE included a folder:\n",
    "\n",
    "        # create the folder\n",
    "\n",
    "        \n",
    "        \n",
    "    ## INFORM USER AND SAVE EMPTY LIST\n",
    "\n",
    "    \n",
    "    \n",
    "    ## save the first page of results\n",
    "\n",
    "        \n",
    "## If it exists, inform user\n"
   ]
  },
  {
   "cell_type": "markdown",
   "metadata": {},
   "source": [
    "### Load JSON FIle and account for previous results"
   ]
  },
  {
   "cell_type": "code",
   "execution_count": 8,
   "metadata": {},
   "outputs": [],
   "source": [
    "## Load previous results and use len of results for offset\n",
    "\n",
    "## set offset based on previous results\n"
   ]
  },
  {
   "cell_type": "markdown",
   "metadata": {},
   "source": [
    "### Make the first API call to get the first page of data"
   ]
  },
  {
   "cell_type": "markdown",
   "metadata": {},
   "source": [
    "- We will use this first result to check:\n",
    "    - how many total results there are?\n",
    "    - Where is the actual data we want to save?\n",
    "    - how many results do we get at a time?\n"
   ]
  },
  {
   "cell_type": "code",
   "execution_count": 9,
   "metadata": {},
   "outputs": [],
   "source": [
    "# use our yelp_api variable's search_query method to perform our API call\n",
    "results = yelp.search_query(location=location, term=term)"
   ]
  },
  {
   "cell_type": "code",
   "execution_count": 10,
   "metadata": {},
   "outputs": [
    {
     "data": {
      "text/plain": [
       "dict"
      ]
     },
     "execution_count": 10,
     "metadata": {},
     "output_type": "execute_result"
    }
   ],
   "source": [
    "type(results)"
   ]
  },
  {
   "cell_type": "code",
   "execution_count": 11,
   "metadata": {},
   "outputs": [
    {
     "data": {
      "text/plain": [
       "dict_keys(['businesses', 'total', 'region'])"
      ]
     },
     "execution_count": 11,
     "metadata": {},
     "output_type": "execute_result"
    }
   ],
   "source": [
    "results.keys()"
   ]
  },
  {
   "cell_type": "code",
   "execution_count": 12,
   "metadata": {},
   "outputs": [
    {
     "data": {
      "text/html": [
       "<div>\n",
       "<style scoped>\n",
       "    .dataframe tbody tr th:only-of-type {\n",
       "        vertical-align: middle;\n",
       "    }\n",
       "\n",
       "    .dataframe tbody tr th {\n",
       "        vertical-align: top;\n",
       "    }\n",
       "\n",
       "    .dataframe thead th {\n",
       "        text-align: right;\n",
       "    }\n",
       "</style>\n",
       "<table border=\"1\" class=\"dataframe\">\n",
       "  <thead>\n",
       "    <tr style=\"text-align: right;\">\n",
       "      <th></th>\n",
       "      <th>id</th>\n",
       "      <th>alias</th>\n",
       "      <th>name</th>\n",
       "      <th>image_url</th>\n",
       "      <th>is_closed</th>\n",
       "      <th>url</th>\n",
       "      <th>review_count</th>\n",
       "      <th>categories</th>\n",
       "      <th>rating</th>\n",
       "      <th>coordinates</th>\n",
       "      <th>transactions</th>\n",
       "      <th>location</th>\n",
       "      <th>phone</th>\n",
       "      <th>display_phone</th>\n",
       "      <th>distance</th>\n",
       "      <th>price</th>\n",
       "    </tr>\n",
       "  </thead>\n",
       "  <tbody>\n",
       "    <tr>\n",
       "      <th>0</th>\n",
       "      <td>YyU2fvija6rB9zM5IkpSMA</td>\n",
       "      <td>cheeky-monkey-richmond-2</td>\n",
       "      <td>Cheeky Monkey</td>\n",
       "      <td>https://s3-media1.fl.yelpcdn.com/bphoto/Kxxd9c...</td>\n",
       "      <td>False</td>\n",
       "      <td>https://www.yelp.com/biz/cheeky-monkey-richmon...</td>\n",
       "      <td>3</td>\n",
       "      <td>[{'alias': 'cafes', 'title': 'Cafes'}, {'alias...</td>\n",
       "      <td>5.0</td>\n",
       "      <td>{'latitude': -37.82505, 'longitude': 144.99372}</td>\n",
       "      <td>[]</td>\n",
       "      <td>{'address1': '89A Swan St', 'address2': '', 'a...</td>\n",
       "      <td>+6194288833</td>\n",
       "      <td>+61 94288833</td>\n",
       "      <td>1311.777809</td>\n",
       "      <td>NaN</td>\n",
       "    </tr>\n",
       "    <tr>\n",
       "      <th>1</th>\n",
       "      <td>vErYbawf1ZEu8zqrTeLCaw</td>\n",
       "      <td>touchwood-richmond</td>\n",
       "      <td>Touchwood</td>\n",
       "      <td>https://s3-media2.fl.yelpcdn.com/bphoto/B_D0r5...</td>\n",
       "      <td>False</td>\n",
       "      <td>https://www.yelp.com/biz/touchwood-richmond?ad...</td>\n",
       "      <td>26</td>\n",
       "      <td>[{'alias': 'restaurants', 'title': 'Restaurant...</td>\n",
       "      <td>4.0</td>\n",
       "      <td>{'latitude': -37.81954, 'longitude': 145.007611}</td>\n",
       "      <td>[]</td>\n",
       "      <td>{'address1': '480 Bridge Rd', 'address2': '', ...</td>\n",
       "      <td>+6194299347</td>\n",
       "      <td>+61 94299347</td>\n",
       "      <td>291.714795</td>\n",
       "      <td>$$</td>\n",
       "    </tr>\n",
       "    <tr>\n",
       "      <th>2</th>\n",
       "      <td>aVScHgb1vbrxmJmejmH7jA</td>\n",
       "      <td>top-paddock-cafe-richmond</td>\n",
       "      <td>Top Paddock Cafe</td>\n",
       "      <td>https://s3-media3.fl.yelpcdn.com/bphoto/THBJyZ...</td>\n",
       "      <td>False</td>\n",
       "      <td>https://www.yelp.com/biz/top-paddock-cafe-rich...</td>\n",
       "      <td>97</td>\n",
       "      <td>[{'alias': 'cafes', 'title': 'Cafes'}, {'alias...</td>\n",
       "      <td>4.0</td>\n",
       "      <td>{'latitude': -37.832784, 'longitude': 144.996406}</td>\n",
       "      <td>[]</td>\n",
       "      <td>{'address1': '658 Church Street', 'address2': ...</td>\n",
       "      <td>+61394294332</td>\n",
       "      <td>+61 3 9429 4332</td>\n",
       "      <td>1574.458189</td>\n",
       "      <td>$$</td>\n",
       "    </tr>\n",
       "    <tr>\n",
       "      <th>3</th>\n",
       "      <td>xXpqmEM9wHr_b99SQKhkEg</td>\n",
       "      <td>fifty-acres-richmond</td>\n",
       "      <td>Fifty Acres</td>\n",
       "      <td>https://s3-media3.fl.yelpcdn.com/bphoto/1Xnb1n...</td>\n",
       "      <td>False</td>\n",
       "      <td>https://www.yelp.com/biz/fifty-acres-richmond?...</td>\n",
       "      <td>18</td>\n",
       "      <td>[{'alias': 'breakfast_brunch', 'title': 'Break...</td>\n",
       "      <td>4.0</td>\n",
       "      <td>{'latitude': -37.817717, 'longitude': 144.992185}</td>\n",
       "      <td>[]</td>\n",
       "      <td>{'address1': '65 Bridge Rd', 'address2': '', '...</td>\n",
       "      <td>+61394210296</td>\n",
       "      <td>+61 3 9421 0296</td>\n",
       "      <td>1489.672547</td>\n",
       "      <td>$$</td>\n",
       "    </tr>\n",
       "    <tr>\n",
       "      <th>4</th>\n",
       "      <td>O_dtCqpaLpdK8TFimwotgA</td>\n",
       "      <td>feast-of-merit-richmond</td>\n",
       "      <td>Feast of Merit</td>\n",
       "      <td>https://s3-media3.fl.yelpcdn.com/bphoto/ee9PLT...</td>\n",
       "      <td>False</td>\n",
       "      <td>https://www.yelp.com/biz/feast-of-merit-richmo...</td>\n",
       "      <td>27</td>\n",
       "      <td>[{'alias': 'mideastern', 'title': 'Middle East...</td>\n",
       "      <td>4.0</td>\n",
       "      <td>{'latitude': -37.825299, 'longitude': 144.995022}</td>\n",
       "      <td>[]</td>\n",
       "      <td>{'address1': '117 Swan St', 'address2': '', 'a...</td>\n",
       "      <td>+61394288480</td>\n",
       "      <td>+61 3 9428 8480</td>\n",
       "      <td>1210.317691</td>\n",
       "      <td>$$</td>\n",
       "    </tr>\n",
       "  </tbody>\n",
       "</table>\n",
       "</div>"
      ],
      "text/plain": [
       "                       id                      alias              name  \\\n",
       "0  YyU2fvija6rB9zM5IkpSMA   cheeky-monkey-richmond-2     Cheeky Monkey   \n",
       "1  vErYbawf1ZEu8zqrTeLCaw         touchwood-richmond         Touchwood   \n",
       "2  aVScHgb1vbrxmJmejmH7jA  top-paddock-cafe-richmond  Top Paddock Cafe   \n",
       "3  xXpqmEM9wHr_b99SQKhkEg       fifty-acres-richmond       Fifty Acres   \n",
       "4  O_dtCqpaLpdK8TFimwotgA    feast-of-merit-richmond    Feast of Merit   \n",
       "\n",
       "                                           image_url  is_closed  \\\n",
       "0  https://s3-media1.fl.yelpcdn.com/bphoto/Kxxd9c...      False   \n",
       "1  https://s3-media2.fl.yelpcdn.com/bphoto/B_D0r5...      False   \n",
       "2  https://s3-media3.fl.yelpcdn.com/bphoto/THBJyZ...      False   \n",
       "3  https://s3-media3.fl.yelpcdn.com/bphoto/1Xnb1n...      False   \n",
       "4  https://s3-media3.fl.yelpcdn.com/bphoto/ee9PLT...      False   \n",
       "\n",
       "                                                 url  review_count  \\\n",
       "0  https://www.yelp.com/biz/cheeky-monkey-richmon...             3   \n",
       "1  https://www.yelp.com/biz/touchwood-richmond?ad...            26   \n",
       "2  https://www.yelp.com/biz/top-paddock-cafe-rich...            97   \n",
       "3  https://www.yelp.com/biz/fifty-acres-richmond?...            18   \n",
       "4  https://www.yelp.com/biz/feast-of-merit-richmo...            27   \n",
       "\n",
       "                                          categories  rating  \\\n",
       "0  [{'alias': 'cafes', 'title': 'Cafes'}, {'alias...     5.0   \n",
       "1  [{'alias': 'restaurants', 'title': 'Restaurant...     4.0   \n",
       "2  [{'alias': 'cafes', 'title': 'Cafes'}, {'alias...     4.0   \n",
       "3  [{'alias': 'breakfast_brunch', 'title': 'Break...     4.0   \n",
       "4  [{'alias': 'mideastern', 'title': 'Middle East...     4.0   \n",
       "\n",
       "                                         coordinates transactions  \\\n",
       "0    {'latitude': -37.82505, 'longitude': 144.99372}           []   \n",
       "1   {'latitude': -37.81954, 'longitude': 145.007611}           []   \n",
       "2  {'latitude': -37.832784, 'longitude': 144.996406}           []   \n",
       "3  {'latitude': -37.817717, 'longitude': 144.992185}           []   \n",
       "4  {'latitude': -37.825299, 'longitude': 144.995022}           []   \n",
       "\n",
       "                                            location         phone  \\\n",
       "0  {'address1': '89A Swan St', 'address2': '', 'a...   +6194288833   \n",
       "1  {'address1': '480 Bridge Rd', 'address2': '', ...   +6194299347   \n",
       "2  {'address1': '658 Church Street', 'address2': ...  +61394294332   \n",
       "3  {'address1': '65 Bridge Rd', 'address2': '', '...  +61394210296   \n",
       "4  {'address1': '117 Swan St', 'address2': '', 'a...  +61394288480   \n",
       "\n",
       "     display_phone     distance price  \n",
       "0     +61 94288833  1311.777809   NaN  \n",
       "1     +61 94299347   291.714795    $$  \n",
       "2  +61 3 9429 4332  1574.458189    $$  \n",
       "3  +61 3 9421 0296  1489.672547    $$  \n",
       "4  +61 3 9428 8480  1210.317691    $$  "
      ]
     },
     "execution_count": 12,
     "metadata": {},
     "output_type": "execute_result"
    }
   ],
   "source": [
    "pd.DataFrame(results['businesses']).head()"
   ]
  },
  {
   "cell_type": "code",
   "execution_count": 13,
   "metadata": {
    "ExecuteTime": {
     "end_time": "2022-03-24T20:01:48.867510Z",
     "start_time": "2022-03-24T20:01:48.854746Z"
    },
    "colab": {
     "base_uri": "https://localhost:8080/"
    },
    "id": "Myur3i1KGhPf",
    "outputId": "f447c6f9-596b-41d0-ccda-50af0ce82108"
   },
   "outputs": [
    {
     "data": {
      "text/plain": [
       "1200"
      ]
     },
     "execution_count": 13,
     "metadata": {},
     "output_type": "execute_result"
    }
   ],
   "source": [
    "## How many results total?\n",
    "results['total']"
   ]
  },
  {
   "cell_type": "code",
   "execution_count": 14,
   "metadata": {},
   "outputs": [
    {
     "data": {
      "text/plain": [
       "{'center': {'longitude': 145.0082015991211, 'latitude': -37.82212164169695}}"
      ]
     },
     "execution_count": 14,
     "metadata": {},
     "output_type": "execute_result"
    }
   ],
   "source": [
    "results['region']"
   ]
  },
  {
   "cell_type": "code",
   "execution_count": null,
   "metadata": {},
   "outputs": [],
   "source": []
  },
  {
   "cell_type": "markdown",
   "metadata": {},
   "source": [
    "- Where is the actual data we want to save?"
   ]
  },
  {
   "cell_type": "code",
   "execution_count": 24,
   "metadata": {},
   "outputs": [
    {
     "data": {
      "text/html": [
       "<div>\n",
       "<style scoped>\n",
       "    .dataframe tbody tr th:only-of-type {\n",
       "        vertical-align: middle;\n",
       "    }\n",
       "\n",
       "    .dataframe tbody tr th {\n",
       "        vertical-align: top;\n",
       "    }\n",
       "\n",
       "    .dataframe thead th {\n",
       "        text-align: right;\n",
       "    }\n",
       "</style>\n",
       "<table border=\"1\" class=\"dataframe\">\n",
       "  <thead>\n",
       "    <tr style=\"text-align: right;\">\n",
       "      <th></th>\n",
       "      <th>id</th>\n",
       "      <th>alias</th>\n",
       "      <th>name</th>\n",
       "      <th>image_url</th>\n",
       "      <th>is_closed</th>\n",
       "      <th>url</th>\n",
       "      <th>review_count</th>\n",
       "      <th>categories</th>\n",
       "      <th>rating</th>\n",
       "      <th>coordinates</th>\n",
       "      <th>transactions</th>\n",
       "      <th>location</th>\n",
       "      <th>phone</th>\n",
       "      <th>display_phone</th>\n",
       "      <th>distance</th>\n",
       "      <th>price</th>\n",
       "    </tr>\n",
       "  </thead>\n",
       "  <tbody>\n",
       "    <tr>\n",
       "      <th>0</th>\n",
       "      <td>YyU2fvija6rB9zM5IkpSMA</td>\n",
       "      <td>cheeky-monkey-richmond-2</td>\n",
       "      <td>Cheeky Monkey</td>\n",
       "      <td>https://s3-media1.fl.yelpcdn.com/bphoto/Kxxd9c...</td>\n",
       "      <td>False</td>\n",
       "      <td>https://www.yelp.com/biz/cheeky-monkey-richmon...</td>\n",
       "      <td>3</td>\n",
       "      <td>[{'alias': 'cafes', 'title': 'Cafes'}, {'alias...</td>\n",
       "      <td>5.0</td>\n",
       "      <td>{'latitude': -37.82505, 'longitude': 144.99372}</td>\n",
       "      <td>[]</td>\n",
       "      <td>{'address1': '89A Swan St', 'address2': '', 'a...</td>\n",
       "      <td>+6194288833</td>\n",
       "      <td>+61 94288833</td>\n",
       "      <td>1311.777809</td>\n",
       "      <td>NaN</td>\n",
       "    </tr>\n",
       "    <tr>\n",
       "      <th>1</th>\n",
       "      <td>vErYbawf1ZEu8zqrTeLCaw</td>\n",
       "      <td>touchwood-richmond</td>\n",
       "      <td>Touchwood</td>\n",
       "      <td>https://s3-media2.fl.yelpcdn.com/bphoto/B_D0r5...</td>\n",
       "      <td>False</td>\n",
       "      <td>https://www.yelp.com/biz/touchwood-richmond?ad...</td>\n",
       "      <td>26</td>\n",
       "      <td>[{'alias': 'restaurants', 'title': 'Restaurant...</td>\n",
       "      <td>4.0</td>\n",
       "      <td>{'latitude': -37.81954, 'longitude': 145.007611}</td>\n",
       "      <td>[]</td>\n",
       "      <td>{'address1': '480 Bridge Rd', 'address2': '', ...</td>\n",
       "      <td>+6194299347</td>\n",
       "      <td>+61 94299347</td>\n",
       "      <td>291.714795</td>\n",
       "      <td>$$</td>\n",
       "    </tr>\n",
       "    <tr>\n",
       "      <th>2</th>\n",
       "      <td>aVScHgb1vbrxmJmejmH7jA</td>\n",
       "      <td>top-paddock-cafe-richmond</td>\n",
       "      <td>Top Paddock Cafe</td>\n",
       "      <td>https://s3-media3.fl.yelpcdn.com/bphoto/THBJyZ...</td>\n",
       "      <td>False</td>\n",
       "      <td>https://www.yelp.com/biz/top-paddock-cafe-rich...</td>\n",
       "      <td>97</td>\n",
       "      <td>[{'alias': 'cafes', 'title': 'Cafes'}, {'alias...</td>\n",
       "      <td>4.0</td>\n",
       "      <td>{'latitude': -37.832784, 'longitude': 144.996406}</td>\n",
       "      <td>[]</td>\n",
       "      <td>{'address1': '658 Church Street', 'address2': ...</td>\n",
       "      <td>+61394294332</td>\n",
       "      <td>+61 3 9429 4332</td>\n",
       "      <td>1574.458189</td>\n",
       "      <td>$$</td>\n",
       "    </tr>\n",
       "    <tr>\n",
       "      <th>3</th>\n",
       "      <td>xXpqmEM9wHr_b99SQKhkEg</td>\n",
       "      <td>fifty-acres-richmond</td>\n",
       "      <td>Fifty Acres</td>\n",
       "      <td>https://s3-media3.fl.yelpcdn.com/bphoto/1Xnb1n...</td>\n",
       "      <td>False</td>\n",
       "      <td>https://www.yelp.com/biz/fifty-acres-richmond?...</td>\n",
       "      <td>18</td>\n",
       "      <td>[{'alias': 'breakfast_brunch', 'title': 'Break...</td>\n",
       "      <td>4.0</td>\n",
       "      <td>{'latitude': -37.817717, 'longitude': 144.992185}</td>\n",
       "      <td>[]</td>\n",
       "      <td>{'address1': '65 Bridge Rd', 'address2': '', '...</td>\n",
       "      <td>+61394210296</td>\n",
       "      <td>+61 3 9421 0296</td>\n",
       "      <td>1489.672547</td>\n",
       "      <td>$$</td>\n",
       "    </tr>\n",
       "    <tr>\n",
       "      <th>4</th>\n",
       "      <td>O_dtCqpaLpdK8TFimwotgA</td>\n",
       "      <td>feast-of-merit-richmond</td>\n",
       "      <td>Feast of Merit</td>\n",
       "      <td>https://s3-media3.fl.yelpcdn.com/bphoto/ee9PLT...</td>\n",
       "      <td>False</td>\n",
       "      <td>https://www.yelp.com/biz/feast-of-merit-richmo...</td>\n",
       "      <td>27</td>\n",
       "      <td>[{'alias': 'mideastern', 'title': 'Middle East...</td>\n",
       "      <td>4.0</td>\n",
       "      <td>{'latitude': -37.825299, 'longitude': 144.995022}</td>\n",
       "      <td>[]</td>\n",
       "      <td>{'address1': '117 Swan St', 'address2': '', 'a...</td>\n",
       "      <td>+61394288480</td>\n",
       "      <td>+61 3 9428 8480</td>\n",
       "      <td>1210.317691</td>\n",
       "      <td>$$</td>\n",
       "    </tr>\n",
       "  </tbody>\n",
       "</table>\n",
       "</div>"
      ],
      "text/plain": [
       "                       id                      alias              name  \\\n",
       "0  YyU2fvija6rB9zM5IkpSMA   cheeky-monkey-richmond-2     Cheeky Monkey   \n",
       "1  vErYbawf1ZEu8zqrTeLCaw         touchwood-richmond         Touchwood   \n",
       "2  aVScHgb1vbrxmJmejmH7jA  top-paddock-cafe-richmond  Top Paddock Cafe   \n",
       "3  xXpqmEM9wHr_b99SQKhkEg       fifty-acres-richmond       Fifty Acres   \n",
       "4  O_dtCqpaLpdK8TFimwotgA    feast-of-merit-richmond    Feast of Merit   \n",
       "\n",
       "                                           image_url  is_closed  \\\n",
       "0  https://s3-media1.fl.yelpcdn.com/bphoto/Kxxd9c...      False   \n",
       "1  https://s3-media2.fl.yelpcdn.com/bphoto/B_D0r5...      False   \n",
       "2  https://s3-media3.fl.yelpcdn.com/bphoto/THBJyZ...      False   \n",
       "3  https://s3-media3.fl.yelpcdn.com/bphoto/1Xnb1n...      False   \n",
       "4  https://s3-media3.fl.yelpcdn.com/bphoto/ee9PLT...      False   \n",
       "\n",
       "                                                 url  review_count  \\\n",
       "0  https://www.yelp.com/biz/cheeky-monkey-richmon...             3   \n",
       "1  https://www.yelp.com/biz/touchwood-richmond?ad...            26   \n",
       "2  https://www.yelp.com/biz/top-paddock-cafe-rich...            97   \n",
       "3  https://www.yelp.com/biz/fifty-acres-richmond?...            18   \n",
       "4  https://www.yelp.com/biz/feast-of-merit-richmo...            27   \n",
       "\n",
       "                                          categories  rating  \\\n",
       "0  [{'alias': 'cafes', 'title': 'Cafes'}, {'alias...     5.0   \n",
       "1  [{'alias': 'restaurants', 'title': 'Restaurant...     4.0   \n",
       "2  [{'alias': 'cafes', 'title': 'Cafes'}, {'alias...     4.0   \n",
       "3  [{'alias': 'breakfast_brunch', 'title': 'Break...     4.0   \n",
       "4  [{'alias': 'mideastern', 'title': 'Middle East...     4.0   \n",
       "\n",
       "                                         coordinates transactions  \\\n",
       "0    {'latitude': -37.82505, 'longitude': 144.99372}           []   \n",
       "1   {'latitude': -37.81954, 'longitude': 145.007611}           []   \n",
       "2  {'latitude': -37.832784, 'longitude': 144.996406}           []   \n",
       "3  {'latitude': -37.817717, 'longitude': 144.992185}           []   \n",
       "4  {'latitude': -37.825299, 'longitude': 144.995022}           []   \n",
       "\n",
       "                                            location         phone  \\\n",
       "0  {'address1': '89A Swan St', 'address2': '', 'a...   +6194288833   \n",
       "1  {'address1': '480 Bridge Rd', 'address2': '', ...   +6194299347   \n",
       "2  {'address1': '658 Church Street', 'address2': ...  +61394294332   \n",
       "3  {'address1': '65 Bridge Rd', 'address2': '', '...  +61394210296   \n",
       "4  {'address1': '117 Swan St', 'address2': '', 'a...  +61394288480   \n",
       "\n",
       "     display_phone     distance price  \n",
       "0     +61 94288833  1311.777809   NaN  \n",
       "1     +61 94299347   291.714795    $$  \n",
       "2  +61 3 9429 4332  1574.458189    $$  \n",
       "3  +61 3 9421 0296  1489.672547    $$  \n",
       "4  +61 3 9428 8480  1210.317691    $$  "
      ]
     },
     "execution_count": 24,
     "metadata": {},
     "output_type": "execute_result"
    }
   ],
   "source": [
    "pd.DataFrame(results['businesses']).head()"
   ]
  },
  {
   "cell_type": "code",
   "execution_count": 16,
   "metadata": {},
   "outputs": [
    {
     "data": {
      "text/plain": [
       "20"
      ]
     },
     "execution_count": 16,
     "metadata": {},
     "output_type": "execute_result"
    }
   ],
   "source": [
    "## How many did we get the details for?\n",
    "results_per_page =  len(results['businesses'])\n",
    "results_per_page"
   ]
  },
  {
   "cell_type": "markdown",
   "metadata": {},
   "source": [
    "- Calculate how many pages of results needed to cover the total_results"
   ]
  },
  {
   "cell_type": "code",
   "execution_count": 17,
   "metadata": {},
   "outputs": [
    {
     "data": {
      "text/plain": [
       "60"
      ]
     },
     "execution_count": 17,
     "metadata": {},
     "output_type": "execute_result"
    }
   ],
   "source": [
    "# Use math.ceil to round up for the total number of pages of results.\n",
    "import math\n",
    "n_pages=math.ceil(results['total']/results_per_page)\n",
    "n_pages"
   ]
  },
  {
   "cell_type": "code",
   "execution_count": 21,
   "metadata": {},
   "outputs": [],
   "source": [
    "temp_pages = 49"
   ]
  },
  {
   "cell_type": "code",
   "execution_count": 19,
   "metadata": {},
   "outputs": [
    {
     "name": "stdout",
     "output_type": "stream",
     "text": [
      "File exits\n"
     ]
    }
   ],
   "source": [
    "if os.path.isfile(JSON_FILE) == False:\n",
    "    print('the file does not exist. creating empty file')\n",
    "    with open(JSON_FILE, 'w') as f:\n",
    "        json.dump(results['businesses'], f)\n",
    "else:\n",
    "    print('File exits')"
   ]
  },
  {
   "cell_type": "markdown",
   "metadata": {},
   "source": [
    "### Check if Json File exists and Create it if it doesn't"
   ]
  },
  {
   "cell_type": "code",
   "execution_count": 23,
   "metadata": {},
   "outputs": [
    {
     "data": {
      "application/vnd.jupyter.widget-view+json": {
       "model_id": "e5cb4fe5408f4f2584dcee69d6d20013",
       "version_major": 2,
       "version_minor": 0
      },
      "text/plain": [
       "  0%|          | 0/49 [00:00<?, ?it/s]"
      ]
     },
     "metadata": {},
     "output_type": "display_data"
    },
    {
     "ename": "YelpAPIError",
     "evalue": "VALIDATION_ERROR: Too many results requested, limit+offset must be <= 1000.",
     "output_type": "error",
     "traceback": [
      "\u001b[0;31m---------------------------------------------------------------------------\u001b[0m",
      "\u001b[0;31mYelpAPIError\u001b[0m                              Traceback (most recent call last)",
      "Input \u001b[0;32mIn [23]\u001b[0m, in \u001b[0;36m<cell line: 1>\u001b[0;34m()\u001b[0m\n\u001b[1;32m     10\u001b[0m n_results \u001b[38;5;241m=\u001b[39m \u001b[38;5;28mlen\u001b[39m(prev_results)\n\u001b[1;32m     13\u001b[0m \u001b[38;5;66;03m## use n_results as the OFFSET \u001b[39;00m\n\u001b[0;32m---> 14\u001b[0m results \u001b[38;5;241m=\u001b[39m \u001b[43myelp\u001b[49m\u001b[38;5;241;43m.\u001b[39;49m\u001b[43msearch_query\u001b[49m\u001b[43m(\u001b[49m\u001b[43mterm\u001b[49m\u001b[43m \u001b[49m\u001b[38;5;241;43m=\u001b[39;49m\u001b[43m \u001b[49m\u001b[43mterm\u001b[49m\u001b[43m,\u001b[49m\u001b[43m \u001b[49m\u001b[43mlocation\u001b[49m\u001b[38;5;241;43m=\u001b[39;49m\u001b[43mlocation\u001b[49m\u001b[43m,\u001b[49m\n\u001b[1;32m     15\u001b[0m \u001b[43m                           \u001b[49m\u001b[43moffset\u001b[49m\u001b[38;5;241;43m=\u001b[39;49m\u001b[43mn_results\u001b[49m\u001b[43m)\u001b[49m\n\u001b[1;32m     17\u001b[0m \u001b[38;5;66;03m## append new results and save to file\u001b[39;00m\n\u001b[1;32m     18\u001b[0m prev_results\u001b[38;5;241m.\u001b[39mextend(results[\u001b[38;5;124m'\u001b[39m\u001b[38;5;124mbusinesses\u001b[39m\u001b[38;5;124m'\u001b[39m])\n",
      "File \u001b[0;32m/usr/local/Caskroom/miniforge/base/envs/dojo-env/lib/python3.8/site-packages/yelpapi/yelpapi.py:234\u001b[0m, in \u001b[0;36mYelpAPI.search_query\u001b[0;34m(self, **kwargs)\u001b[0m\n\u001b[1;32m    230\u001b[0m \u001b[38;5;28;01mif\u001b[39;00m \u001b[38;5;129;01mnot\u001b[39;00m kwargs\u001b[38;5;241m.\u001b[39mget(\u001b[38;5;124m'\u001b[39m\u001b[38;5;124mlocation\u001b[39m\u001b[38;5;124m'\u001b[39m) \u001b[38;5;129;01mand\u001b[39;00m (\u001b[38;5;129;01mnot\u001b[39;00m kwargs\u001b[38;5;241m.\u001b[39mget(\u001b[38;5;124m'\u001b[39m\u001b[38;5;124mlatitude\u001b[39m\u001b[38;5;124m'\u001b[39m) \u001b[38;5;129;01mor\u001b[39;00m \u001b[38;5;129;01mnot\u001b[39;00m kwargs\u001b[38;5;241m.\u001b[39mget(\u001b[38;5;124m'\u001b[39m\u001b[38;5;124mlongitude\u001b[39m\u001b[38;5;124m'\u001b[39m)):\n\u001b[1;32m    231\u001b[0m     \u001b[38;5;28;01mraise\u001b[39;00m \u001b[38;5;167;01mValueError\u001b[39;00m(\u001b[38;5;124m'\u001b[39m\u001b[38;5;124mA valid location (parameter \u001b[39m\u001b[38;5;124m\"\u001b[39m\u001b[38;5;124mlocation\u001b[39m\u001b[38;5;124m\"\u001b[39m\u001b[38;5;124m) or latitude/longitude combination \u001b[39m\u001b[38;5;124m'\u001b[39m\n\u001b[1;32m    232\u001b[0m                      \u001b[38;5;124m'\u001b[39m\u001b[38;5;124m(parameters \u001b[39m\u001b[38;5;124m\"\u001b[39m\u001b[38;5;124mlatitude\u001b[39m\u001b[38;5;124m\"\u001b[39m\u001b[38;5;124m and \u001b[39m\u001b[38;5;124m\"\u001b[39m\u001b[38;5;124mlongitude\u001b[39m\u001b[38;5;124m\"\u001b[39m\u001b[38;5;124m) must be provided.\u001b[39m\u001b[38;5;124m'\u001b[39m)\n\u001b[0;32m--> 234\u001b[0m \u001b[38;5;28;01mreturn\u001b[39;00m \u001b[38;5;28;43mself\u001b[39;49m\u001b[38;5;241;43m.\u001b[39;49m\u001b[43m_query\u001b[49m\u001b[43m(\u001b[49m\u001b[43mSEARCH_API_URL\u001b[49m\u001b[43m,\u001b[49m\u001b[43m \u001b[49m\u001b[38;5;241;43m*\u001b[39;49m\u001b[38;5;241;43m*\u001b[39;49m\u001b[43mkwargs\u001b[49m\u001b[43m)\u001b[49m\n",
      "File \u001b[0;32m/usr/local/Caskroom/miniforge/base/envs/dojo-env/lib/python3.8/site-packages/yelpapi/yelpapi.py:282\u001b[0m, in \u001b[0;36mYelpAPI._query\u001b[0;34m(self, url, **kwargs)\u001b[0m\n\u001b[1;32m    278\u001b[0m \u001b[38;5;66;03m# Yelp can return one of many different API errors, so check for one of them.\u001b[39;00m\n\u001b[1;32m    279\u001b[0m \u001b[38;5;66;03m# The Yelp Fusion API does not yet have a complete list of errors, but this is on the TODO list; see\u001b[39;00m\n\u001b[1;32m    280\u001b[0m \u001b[38;5;66;03m# https://github.com/Yelp/yelp-fusion/issues/95 for more info.\u001b[39;00m\n\u001b[1;32m    281\u001b[0m \u001b[38;5;28;01mif\u001b[39;00m \u001b[38;5;124m'\u001b[39m\u001b[38;5;124merror\u001b[39m\u001b[38;5;124m'\u001b[39m \u001b[38;5;129;01min\u001b[39;00m response_json:\n\u001b[0;32m--> 282\u001b[0m     \u001b[38;5;28;01mraise\u001b[39;00m YelpAPI\u001b[38;5;241m.\u001b[39mYelpAPIError(\u001b[38;5;124m'\u001b[39m\u001b[38;5;132;01m{}\u001b[39;00m\u001b[38;5;124m: \u001b[39m\u001b[38;5;132;01m{}\u001b[39;00m\u001b[38;5;124m'\u001b[39m\u001b[38;5;241m.\u001b[39mformat(response_json[\u001b[38;5;124m'\u001b[39m\u001b[38;5;124merror\u001b[39m\u001b[38;5;124m'\u001b[39m][\u001b[38;5;124m'\u001b[39m\u001b[38;5;124mcode\u001b[39m\u001b[38;5;124m'\u001b[39m],\n\u001b[1;32m    283\u001b[0m                                                response_json[\u001b[38;5;124m'\u001b[39m\u001b[38;5;124merror\u001b[39m\u001b[38;5;124m'\u001b[39m][\u001b[38;5;124m'\u001b[39m\u001b[38;5;124mdescription\u001b[39m\u001b[38;5;124m'\u001b[39m]))\n\u001b[1;32m    285\u001b[0m \u001b[38;5;66;03m# we got a good response, so return\u001b[39;00m\n\u001b[1;32m    286\u001b[0m \u001b[38;5;28;01mreturn\u001b[39;00m response_json\n",
      "\u001b[0;31mYelpAPIError\u001b[0m: VALIDATION_ERROR: Too many results requested, limit+offset must be <= 1000."
     ]
    }
   ],
   "source": [
    "for i in tqdm_notebook( range(1,temp_pages+1)):\n",
    "    ## The block of code we want to TRY to run\n",
    "        \n",
    "        \n",
    "        ## Read in results in progress file and check the length\n",
    "        with open(JSON_FILE) as f:\n",
    "            prev_results = json.load(f)\n",
    "        \n",
    "        ## save number of results for to use as offset\n",
    "        n_results = len(prev_results)\n",
    "        \n",
    "        \n",
    "        ## use n_results as the OFFSET \n",
    "        results = yelp.search_query(term = term, location=location,\n",
    "                                   offset=n_results)\n",
    "\n",
    "        ## append new results and save to file\n",
    "        prev_results.extend(results['businesses'])\n",
    "        with open(JSON_FILE, 'w') as f:\n",
    "            json.dump(prev_results, f)\n",
    "\n",
    "            \n",
    "            \n",
    "      #save number of results to use for offset      \n",
    "    ## What to do if we get an error/exception.\n",
    "        \n"
   ]
  },
  {
   "cell_type": "markdown",
   "metadata": {},
   "source": [
    "## Open the Final JSON File with Pandas"
   ]
  },
  {
   "cell_type": "code",
   "execution_count": null,
   "metadata": {},
   "outputs": [],
   "source": [
    "df = None"
   ]
  },
  {
   "cell_type": "code",
   "execution_count": null,
   "metadata": {},
   "outputs": [],
   "source": [
    "## convert the filename to a .csv.gz\n",
    "csv_file = JSON_FILE.replace('.json','.csv.gz')\n",
    "csv_file"
   ]
  },
  {
   "cell_type": "code",
   "execution_count": null,
   "metadata": {},
   "outputs": [],
   "source": [
    "## Save it as a compressed csv (to save space)\n"
   ]
  },
  {
   "cell_type": "markdown",
   "metadata": {},
   "source": [
    "## Bonus: compare filesize with os module's `os.path.getsize`"
   ]
  },
  {
   "cell_type": "code",
   "execution_count": null,
   "metadata": {},
   "outputs": [],
   "source": [
    "size_json = os.path.getsize(JSON_FILE)\n",
    "size_csv_gz = os.path.getsize(JSON_FILE.replace('.json','.csv.gz'))\n",
    "\n",
    "print(f'JSON FILE: {size_json:,} Bytes')\n",
    "print(f'CSV.GZ FILE: {size_csv_gz:,} Bytes')\n",
    "\n",
    "print(f'the csv.gz is {size_json/size_csv_gz} times smaller!')"
   ]
  },
  {
   "cell_type": "markdown",
   "metadata": {},
   "source": [
    "## Next Class: Processing the Results and Mapping "
   ]
  }
 ],
 "metadata": {
  "colab": {
   "collapsed_sections": [],
   "name": "Test Yelp API Package.ipynb",
   "provenance": []
  },
  "kernelspec": {
   "display_name": "Python (dojo-env)",
   "language": "python",
   "name": "dojo-env"
  },
  "language_info": {
   "codemirror_mode": {
    "name": "ipython",
    "version": 3
   },
   "file_extension": ".py",
   "mimetype": "text/x-python",
   "name": "python",
   "nbconvert_exporter": "python",
   "pygments_lexer": "ipython3",
   "version": "3.8.13"
  },
  "toc": {
   "base_numbering": 1,
   "nav_menu": {},
   "number_sections": false,
   "sideBar": true,
   "skip_h1_title": false,
   "title_cell": "Table of Contents",
   "title_sidebar": "Contents",
   "toc_cell": false,
   "toc_position": {},
   "toc_section_display": true,
   "toc_window_display": true
  }
 },
 "nbformat": 4,
 "nbformat_minor": 1
}
